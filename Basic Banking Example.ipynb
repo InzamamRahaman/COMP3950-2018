{
 "cells": [
  {
   "cell_type": "code",
   "execution_count": 1,
   "metadata": {},
   "outputs": [
    {
     "name": "stdout",
     "output_type": "stream",
     "text": [
      "Populating the interactive namespace from numpy and matplotlib\n"
     ]
    }
   ],
   "source": [
    "%pylab inline\n",
    "import numpy as np"
   ]
  },
  {
   "cell_type": "code",
   "execution_count": 34,
   "metadata": {
    "collapsed": true
   },
   "outputs": [],
   "source": [
    "def service_length():\n",
    "    return np.random.randint(1, 5)\n",
    "\n",
    "def interarrival_time():\n",
    "    return np.random.randint(1, 10)"
   ]
  },
  {
   "cell_type": "code",
   "execution_count": 35,
   "metadata": {},
   "outputs": [
    {
     "data": {
      "text/plain": [
       "1"
      ]
     },
     "execution_count": 35,
     "metadata": {},
     "output_type": "execute_result"
    }
   ],
   "source": [
    "interarrival_time()"
   ]
  },
  {
   "cell_type": "code",
   "execution_count": 44,
   "metadata": {
    "collapsed": true
   },
   "outputs": [],
   "source": [
    "class Customer(object):\n",
    "    def __init__(self, arrival_time):\n",
    "        self.arrival_time = arrival_time\n",
    "        self.service_time = service_length()\n",
    "        self.wait_time = -1\n",
    "        self.finish_time = 0\n",
    "    \n",
    "    def service(self, curr_time):\n",
    "        if self.wait_time == -1:\n",
    "            self.wait_time = curr_time - self.arrival_time\n",
    "            self.finish_time = curr_time + self.service_time\n",
    "#             print(f'Time arrived {self.arrival_time}')\n",
    "#             print(f'Current time {curr_time}')\n",
    "            return False\n",
    "        return curr_time <= self.finish_time "
   ]
  },
  {
   "cell_type": "code",
   "execution_count": 45,
   "metadata": {
    "collapsed": true
   },
   "outputs": [],
   "source": [
    "def simulate():\n",
    "    max_time = 300\n",
    "    next_arrival = interarrival_time()\n",
    "    customers = []\n",
    "    time_under = 0\n",
    "    finished_customers = []\n",
    "    customer_in_service = None \n",
    "    for t in range(max_time):\n",
    "        if t == next_arrival:\n",
    "            customers.append(Customer(t))\n",
    "            next_arrival = t + interarrival_time()\n",
    "        if customer_in_service is None:\n",
    "            if len(customers) > 0:\n",
    "                customer_in_service = customers[0]\n",
    "                customers = customers[1:]\n",
    "                customer_in_service.service(t)\n",
    "            else:\n",
    "                time_under += 1\n",
    "        else:\n",
    "            if not customer_in_service.service(t):\n",
    "                finished_customers.append(customer_in_service)\n",
    "                customer_in_service = None \n",
    "    return time_under, finished_customers"
   ]
  },
  {
   "cell_type": "code",
   "execution_count": 46,
   "metadata": {},
   "outputs": [],
   "source": [
    "tu, cust = simulate()"
   ]
  },
  {
   "cell_type": "code",
   "execution_count": 47,
   "metadata": {},
   "outputs": [
    {
     "data": {
      "text/plain": [
       "37"
      ]
     },
     "execution_count": 47,
     "metadata": {},
     "output_type": "execute_result"
    }
   ],
   "source": [
    "tu"
   ]
  },
  {
   "cell_type": "code",
   "execution_count": 50,
   "metadata": {},
   "outputs": [],
   "source": [
    "wait_times = [c.wait_time for c in cust]"
   ]
  },
  {
   "cell_type": "code",
   "execution_count": 51,
   "metadata": {},
   "outputs": [
    {
     "data": {
      "text/plain": [
       "2.8813559322033897"
      ]
     },
     "execution_count": 51,
     "metadata": {},
     "output_type": "execute_result"
    }
   ],
   "source": [
    "np.mean(wait_times)"
   ]
  },
  {
   "cell_type": "code",
   "execution_count": null,
   "metadata": {
    "collapsed": true
   },
   "outputs": [],
   "source": []
  }
 ],
 "metadata": {
  "kernelspec": {
   "display_name": "Python 3",
   "language": "python",
   "name": "python3"
  },
  "language_info": {
   "codemirror_mode": {
    "name": "ipython",
    "version": 3
   },
   "file_extension": ".py",
   "mimetype": "text/x-python",
   "name": "python",
   "nbconvert_exporter": "python",
   "pygments_lexer": "ipython3",
   "version": "3.6.3"
  }
 },
 "nbformat": 4,
 "nbformat_minor": 2
}
