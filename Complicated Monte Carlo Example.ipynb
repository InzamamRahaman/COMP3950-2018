{
 "cells": [
  {
   "cell_type": "code",
   "execution_count": 1,
   "metadata": {},
   "outputs": [
    {
     "name": "stdout",
     "output_type": "stream",
     "text": [
      "Populating the interactive namespace from numpy and matplotlib\n"
     ]
    }
   ],
   "source": [
    "%pylab inline\n",
    "import numpy as np"
   ]
  },
  {
   "cell_type": "markdown",
   "metadata": {},
   "source": [
    "Here we let the random variable $X$ be one of 'tiny', 'small', 'medium', or 'large' with some probability.\n",
    "\n",
    "$$\n",
    "   f(x) = \\sum_i^n{x_i}\n",
    "$$"
   ]
  },
  {
   "cell_type": "code",
   "execution_count": 2,
   "metadata": {
    "collapsed": true
   },
   "outputs": [],
   "source": [
    "# length_of_bag = {\n",
    "#     'tiny': 1,\n",
    "#     'small': 0.75,\n",
    "#     'medium': 0.5,\n",
    "#     'large': 0.25\n",
    "# }\n",
    "\n",
    "probability_of_dog = {\n",
    "    'tiny': 0.1,\n",
    "    'small': 0.4,\n",
    "    'medium': 0.4,\n",
    "    'large': 0.1\n",
    "}\n",
    "\n",
    "def sample_from_dict(d):\n",
    "    items = []\n",
    "    probs = []\n",
    "    for k, v in d.items():\n",
    "        items.append(k)\n",
    "        probs.append(v)\n",
    "    sample = np.random.choice(items, p=probs)\n",
    "    return sample"
   ]
  },
  {
   "cell_type": "code",
   "execution_count": 3,
   "metadata": {},
   "outputs": [
    {
     "data": {
      "text/plain": [
       "'tiny'"
      ]
     },
     "execution_count": 3,
     "metadata": {},
     "output_type": "execute_result"
    }
   ],
   "source": [
    "sample_from_dict(probability_of_dog)"
   ]
  },
  {
   "cell_type": "code",
   "execution_count": 8,
   "metadata": {
    "collapsed": true
   },
   "outputs": [],
   "source": [
    "def sample_num_dogs():\n",
    "    mean = 3\n",
    "    std = 2\n",
    "    sample = np.random.normal(mean, std)\n",
    "    while sample < 1:\n",
    "        sample = np.random.normal(mean, std)\n",
    "    sample = int(sample)\n",
    "    return sample"
   ]
  },
  {
   "cell_type": "code",
   "execution_count": 13,
   "metadata": {},
   "outputs": [
    {
     "data": {
      "text/plain": [
       "3"
      ]
     },
     "execution_count": 13,
     "metadata": {},
     "output_type": "execute_result"
    }
   ],
   "source": [
    "sample_num_dogs()"
   ]
  },
  {
   "cell_type": "code",
   "execution_count": 14,
   "metadata": {
    "collapsed": true
   },
   "outputs": [],
   "source": [
    "def num_to_buy(counts):\n",
    "    count = 0\n",
    "    for i, c in enumerate(counts):\n",
    "        if c == 0:\n",
    "            count += 1\n",
    "            counts[i] = 1\n",
    "    return count\n",
    "\n",
    "def decrease(types, counts):\n",
    "    for i, c in enumerate(counts):\n",
    "        if types[i] == 'tiny':\n",
    "            counts[i] -= 0.25\n",
    "        elif types[i] == 'medium' or types[i] == 'small':\n",
    "            counts[i] -= 0.5\n",
    "        else:\n",
    "            counts[i] -= 1.0\n",
    "\n",
    "def simulate_customer():\n",
    "    num_dogs = sample_num_dogs()\n",
    "    num_weeks = 52\n",
    "    types = []\n",
    "    counts = []\n",
    "    for n in range(num_dogs):\n",
    "        types.append(sample_from_dict(probability_of_dog))\n",
    "        counts.append(0)\n",
    "    \n",
    "    count = 0\n",
    "    for week in range(num_weeks):\n",
    "        count += num_to_buy(counts)\n",
    "        decrease(types, counts)\n",
    "        \n",
    "    return count\n",
    "        \n",
    "    \n",
    "    \n",
    "    \n",
    "    \n",
    "    "
   ]
  },
  {
   "cell_type": "code",
   "execution_count": 18,
   "metadata": {},
   "outputs": [],
   "source": [
    "def check_condition(curr, target):\n",
    "    for k in curr.keys():\n",
    "        if curr[k] < target[k]:\n",
    "            return True\n",
    "    return False\n",
    "\n",
    "def num_puppy(npurchased):\n",
    "    letters = ['P', 'U', 'Y']\n",
    "    probs = [0.05, 0.1, 0.85]\n",
    "    num_buys = 0\n",
    "    num_wins = 0\n",
    "    winning_condition = {\n",
    "        'P': 3,\n",
    "        'U': 1,\n",
    "        'Y': 1\n",
    "    }\n",
    "    current_count = {\n",
    "        'P': 0,\n",
    "        'U': 0,\n",
    "        'Y': 0\n",
    "    }\n",
    "    \n",
    "    for pid in range(npurchased):\n",
    "        if not check_condition(current_count, winning_condition):\n",
    "            current_count['P'] = 0\n",
    "            current_count['U'] = 0\n",
    "            current_count['Y'] = 0\n",
    "            num_wins += 1\n",
    "        letter = np.random.choice(letters, p=probs)\n",
    "        current_count[letter] += 1\n",
    "        num_buys += 1\n",
    "        \n",
    "        \n",
    "    return num_wins"
   ]
  },
  {
   "cell_type": "code",
   "execution_count": 26,
   "metadata": {},
   "outputs": [
    {
     "data": {
      "text/plain": [
       "2"
      ]
     },
     "execution_count": 26,
     "metadata": {},
     "output_type": "execute_result"
    }
   ],
   "source": [
    "num_puppy(simulate_customer())"
   ]
  },
  {
   "cell_type": "code",
   "execution_count": 27,
   "metadata": {
    "collapsed": true
   },
   "outputs": [],
   "source": [
    "def runs(nruns):\n",
    "    arr = []\n",
    "    for i in range(nruns):\n",
    "        arr.append(num_puppy(simulate_customer()))\n",
    "    return np.array(arr)"
   ]
  },
  {
   "cell_type": "code",
   "execution_count": 30,
   "metadata": {},
   "outputs": [],
   "source": [
    "results = runs(1000)"
   ]
  },
  {
   "cell_type": "code",
   "execution_count": 42,
   "metadata": {},
   "outputs": [
    {
     "data": {
      "text/plain": [
       "(array([ 379.,  344.,    0.,  180.,    0.,   70.,   22.,    0.,    4.,    1.]),\n",
       " array([ 0. ,  0.6,  1.2,  1.8,  2.4,  3. ,  3.6,  4.2,  4.8,  5.4,  6. ]),\n",
       " <a list of 10 Patch objects>)"
      ]
     },
     "execution_count": 42,
     "metadata": {},
     "output_type": "execute_result"
    },
    {
     "data": {
      "image/png": "[encoded data removed]",
      "text/plain": [
       "<matplotlib.figure.Figure at 0x1a1be50b70>"
      ]
     },
     "metadata": {},
     "output_type": "display_data"
    }
   ],
   "source": [
    "plt.hist(results)"
   ]
  },
  {
   "cell_type": "code",
   "execution_count": 32,
   "metadata": {},
   "outputs": [
    {
     "data": {
      "text/plain": [
       "1.028"
      ]
     },
     "execution_count": 32,
     "metadata": {},
     "output_type": "execute_result"
    }
   ],
   "source": [
    "np.mean(results)"
   ]
  },
  {
   "cell_type": "code",
   "execution_count": 33,
   "metadata": {},
   "outputs": [
    {
     "data": {
      "text/plain": [
       "0"
      ]
     },
     "execution_count": 33,
     "metadata": {},
     "output_type": "execute_result"
    }
   ],
   "source": [
    "np.min(results)"
   ]
  },
  {
   "cell_type": "code",
   "execution_count": 35,
   "metadata": {},
   "outputs": [
    {
     "data": {
      "text/plain": [
       "1.0607619902692593"
      ]
     },
     "execution_count": 35,
     "metadata": {},
     "output_type": "execute_result"
    }
   ],
   "source": [
    "np.std(results)"
   ]
  },
  {
   "cell_type": "code",
   "execution_count": 36,
   "metadata": {},
   "outputs": [
    {
     "data": {
      "text/plain": [
       "1.0"
      ]
     },
     "execution_count": 36,
     "metadata": {},
     "output_type": "execute_result"
    }
   ],
   "source": [
    "np.median(results)"
   ]
  },
  {
   "cell_type": "code",
   "execution_count": 39,
   "metadata": {},
   "outputs": [],
   "source": [
    "import scipy.stats as stats"
   ]
  },
  {
   "cell_type": "code",
   "execution_count": 40,
   "metadata": {},
   "outputs": [
    {
     "data": {
      "text/plain": [
       "ModeResult(mode=array([0]), count=array([379]))"
      ]
     },
     "execution_count": 40,
     "metadata": {},
     "output_type": "execute_result"
    }
   ],
   "source": [
    "stats.mode(results)"
   ]
  },
  {
   "cell_type": "code",
   "execution_count": 43,
   "metadata": {},
   "outputs": [
    {
     "data": {
      "text/plain": [
       "<matplotlib.figure.Figure at 0x1a1cae7320>"
      ]
     },
     "metadata": {},
     "output_type": "display_data"
    }
   ],
   "source": [
    "plt.savefig('Plot of Scam.png')"
   ]
  },
  {
   "cell_type": "code",
   "execution_count": null,
   "metadata": {
    "collapsed": true
   },
   "outputs": [],
   "source": []
  }
 ],
 "metadata": {
  "kernelspec": {
   "display_name": "Python 3",
   "language": "python",
   "name": "python3"
  },
  "language_info": {
   "codemirror_mode": {
    "name": "ipython",
    "version": 3
   },
   "file_extension": ".py",
   "mimetype": "text/x-python",
   "name": "python",
   "nbconvert_exporter": "python",
   "pygments_lexer": "ipython3",
   "version": "3.6.3"
  }
 },
 "nbformat": 4,
 "nbformat_minor": 2
}
