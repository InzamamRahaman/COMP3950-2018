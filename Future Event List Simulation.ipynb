{
 "cells": [
  {
   "cell_type": "code",
   "execution_count": 1,
   "metadata": {},
   "outputs": [
    {
     "name": "stdout",
     "output_type": "stream",
     "text": [
      "Populating the interactive namespace from numpy and matplotlib\n"
     ]
    }
   ],
   "source": [
    "%pylab inline\n",
    "import numpy as np"
   ]
  },
  {
   "cell_type": "code",
   "execution_count": 2,
   "metadata": {
    "collapsed": true
   },
   "outputs": [],
   "source": [
    "from enum import Enum\n",
    "class EventType(Enum):\n",
    "    ARRIVAL = 0\n",
    "    DEPARTURE = 1\n",
    "    "
   ]
  },
  {
   "cell_type": "code",
   "execution_count": 3,
   "metadata": {
    "collapsed": true
   },
   "outputs": [],
   "source": [
    "class Event(object):\n",
    "    def __init__(self, event_type, time):\n",
    "        self.event_type = event_type\n",
    "        self.time = time"
   ]
  },
  {
   "cell_type": "code",
   "execution_count": 4,
   "metadata": {
    "collapsed": true
   },
   "outputs": [],
   "source": [
    "class EventList(object):\n",
    "    def __init__(self):\n",
    "        self.events = []\n",
    "        \n",
    "    def __len__(self):\n",
    "        return len(self.events)\n",
    "        \n",
    "    def is_empty(self):\n",
    "        return len(self) == 0\n",
    "        \n",
    "    def get_first(self):\n",
    "        first = self.events[0]\n",
    "        return first\n",
    "    \n",
    "    def enqueue(self, event):\n",
    "        self.events.append(event)\n",
    "    \n",
    "    def dequeue(self):\n",
    "        first = self.get_first()\n",
    "        self.events = self.events[1:]\n",
    "        return first\n",
    "    \n",
    "    def sort(self):\n",
    "        self.events = sorted(self.events, key=lambda x: x.time)\n",
    "        self.events = list(self.events)\n",
    "        "
   ]
  },
  {
   "cell_type": "code",
   "execution_count": 5,
   "metadata": {
    "collapsed": true
   },
   "outputs": [],
   "source": [
    "def interarrival_time():\n",
    "    return np.random.randint(1,5)\n",
    "def service_time():\n",
    "    return np.random.randint(2,3)\n"
   ]
  },
  {
   "cell_type": "code",
   "execution_count": 6,
   "metadata": {
    "collapsed": true
   },
   "outputs": [],
   "source": [
    "wait_times = []\n",
    "server_utilization = 0\n",
    "event_list = EventList()\n",
    "first_arrival = interarrival_time()\n",
    "event_list.enqueue(Event(EventType.ARRIVAL, first_arrival))"
   ]
  },
  {
   "cell_type": "code",
   "execution_count": 7,
   "metadata": {
    "collapsed": true
   },
   "outputs": [],
   "source": [
    "time_to_simulate = 150\n",
    "free = True\n",
    "customers = 0\n",
    "\n",
    "customer_arrival = []\n",
    "customer_departure = []\n",
    "t = 0\n",
    "while t < time_to_simulate:\n",
    "    next_event = event_list.dequeue()\n",
    "    lt = t\n",
    "    t = next_event.time\n",
    "    if next_event.event_type == EventType.ARRIVAL:\n",
    "        customer_arrival.append(t)\n",
    "        if free:\n",
    "            free = False\n",
    "            d_time = service_time() + t\n",
    "            event_list.enqueue(Event(EventType.DEPARTURE, d_time))\n",
    "        else:\n",
    "            server_utilization += (t - lt)\n",
    "        next_arrival_time = interarrival_time() + t\n",
    "        arrival_event = Event(EventType.ARRIVAL, next_arrival_time)\n",
    "        event_list.enqueue(arrival_event)\n",
    "    elif next_event.event_type == EventType.DEPARTURE:\n",
    "        customer_departure.append(t)\n",
    "        free = True\n",
    "        server_utilization += (t - lt)\n",
    "        if customers:\n",
    "            free = False\n",
    "            customers -= 1\n",
    "            next_dept_time = t + service_time()\n",
    "            dept_event = Event(EventType.DEPARTURE, next_dept_time)\n",
    "            event_list.enqueue(dept_event)\n",
    "    event_list.sort()\n",
    "    \n",
    "     \n"
   ]
  },
  {
   "cell_type": "code",
   "execution_count": 8,
   "metadata": {
    "collapsed": true
   },
   "outputs": [],
   "source": [
    "dept = np.array(customer_departure)\n",
    "arr = np.array(customer_arrival)\n",
    "arr = arr[:len(dept)]"
   ]
  },
  {
   "cell_type": "code",
   "execution_count": 9,
   "metadata": {
    "collapsed": true
   },
   "outputs": [],
   "source": [
    "wait_times = dept - arr"
   ]
  },
  {
   "cell_type": "code",
   "execution_count": 10,
   "metadata": {},
   "outputs": [
    {
     "data": {
      "text/plain": [
       "18.399999999999999"
      ]
     },
     "execution_count": 10,
     "metadata": {},
     "output_type": "execute_result"
    }
   ],
   "source": [
    "np.mean(wait_times)"
   ]
  },
  {
   "cell_type": "code",
   "execution_count": 11,
   "metadata": {},
   "outputs": [
    {
     "data": {
      "text/plain": [
       "0.6"
      ]
     },
     "execution_count": 11,
     "metadata": {},
     "output_type": "execute_result"
    }
   ],
   "source": [
    "server_utilization/150.0"
   ]
  },
  {
   "cell_type": "code",
   "execution_count": null,
   "metadata": {
    "collapsed": true
   },
   "outputs": [],
   "source": []
  }
 ],
 "metadata": {
  "kernelspec": {
   "display_name": "Python 3",
   "language": "python",
   "name": "python3"
  },
  "language_info": {
   "codemirror_mode": {
    "name": "ipython",
    "version": 3
   },
   "file_extension": ".py",
   "mimetype": "text/x-python",
   "name": "python",
   "nbconvert_exporter": "python",
   "pygments_lexer": "ipython3",
   "version": "3.6.3"
  }
 },
 "nbformat": 4,
 "nbformat_minor": 2
}
