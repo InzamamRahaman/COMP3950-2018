{
 "cells": [
  {
   "cell_type": "code",
   "execution_count": 1,
   "metadata": {},
   "outputs": [
    {
     "name": "stdout",
     "output_type": "stream",
     "text": [
      "Populating the interactive namespace from numpy and matplotlib\n"
     ]
    }
   ],
   "source": [
    "%pylab inline"
   ]
  },
  {
   "cell_type": "code",
   "execution_count": 2,
   "metadata": {
    "collapsed": true
   },
   "outputs": [],
   "source": [
    "import numpy as np\n",
    "import scipy.stats as stats\n",
    "from enum import Enum"
   ]
  },
  {
   "cell_type": "code",
   "execution_count": 3,
   "metadata": {
    "collapsed": true
   },
   "outputs": [],
   "source": [
    "class EventType(Enum):\n",
    "    ARRIVAL = 0\n",
    "    DEPARTURE = 1"
   ]
  },
  {
   "cell_type": "code",
   "execution_count": 4,
   "metadata": {
    "collapsed": true
   },
   "outputs": [],
   "source": [
    "class Event(object):\n",
    "    def __init__(self, event_type, time):\n",
    "        self.event_type = event_type\n",
    "        self.time = time"
   ]
  },
  {
   "cell_type": "code",
   "execution_count": 5,
   "metadata": {
    "collapsed": true
   },
   "outputs": [],
   "source": [
    "class EventList(object):\n",
    "    def __init__(self):\n",
    "        self.events = []\n",
    "        \n",
    "    def __len__(self):\n",
    "        return len(self.events)\n",
    "        \n",
    "    def is_empty(self):\n",
    "        return len(self) == 0\n",
    "        \n",
    "    def get_first(self):\n",
    "        first = self.events[0]\n",
    "        return first\n",
    "    \n",
    "    def enqueue(self, event):\n",
    "        self.events.append(event)\n",
    "        self.sort()\n",
    "    \n",
    "    def dequeue(self):\n",
    "        self.sort()\n",
    "        first = self.get_first()\n",
    "        self.events = self.events[1:]\n",
    "        return first\n",
    "    \n",
    "    def sort(self):\n",
    "        self.events = sorted(self.events, key=lambda x: x.time)\n",
    "        self.events = list(self.events)\n",
    "        "
   ]
  },
  {
   "cell_type": "code",
   "execution_count": 103,
   "metadata": {
    "collapsed": true
   },
   "outputs": [],
   "source": [
    "def interarrival_time():\n",
    "    return int(np.ceil(np.random.exponential(12)))\n",
    "\n",
    "def service_time():\n",
    "    return int(np.ceil(np.random.exponential(8)))\n",
    "\n",
    "def counts_to_table(counts):\n",
    "    values = set(counts)\n",
    "    l = float(len(counts))\n",
    "    probs = dict()\n",
    "    for v in values:\n",
    "        probs[v] = len(counts[counts == v])/l\n",
    "    return probs\n",
    "        "
   ]
  },
  {
   "cell_type": "code",
   "execution_count": 104,
   "metadata": {
    "collapsed": true
   },
   "outputs": [],
   "source": [
    "# assuming a FCFS queue\n",
    "# we log the arrival time, time of service, and departure time for each\n",
    "# customer who enters Rituals\n",
    "customer_arrival = []\n",
    "customer_departure = []\n",
    "customer_service = []\n",
    "num_customers_system = [] # logs num customers for any particular point in time\n",
    "num_customers_line = []\n",
    "server_utilization = 0\n",
    "event_list = EventList()\n",
    "first_arrival = interarrival_time()\n",
    "event_list.enqueue(Event(EventType.ARRIVAL, first_arrival))\n",
    "\n",
    "time_to_simulate = 60 * 24 * 31\n",
    "free = True\n",
    "customers = 0\n",
    "t = 0"
   ]
  },
  {
   "cell_type": "code",
   "execution_count": 105,
   "metadata": {
    "collapsed": true
   },
   "outputs": [],
   "source": [
    "\n",
    "while t < time_to_simulate:\n",
    "    next_event = event_list.dequeue()\n",
    "    lt = t\n",
    "    t = next_event.time\n",
    "    if t > time_to_simulate:\n",
    "        break\n",
    "    diff = t - lt\n",
    "    num_customers_line.extend([customers] * (diff - 1))\n",
    "    if free:\n",
    "        num_customers_system.extend([0] * (diff - 1))\n",
    "    else:\n",
    "        num_customers_system.extend([customers + 1] * (diff - 1))\n",
    "    if next_event.event_type == EventType.ARRIVAL:\n",
    "        customer_arrival.append(t)\n",
    "        customers += 1\n",
    "        if free:\n",
    "            free = False\n",
    "            customer_service.append(t)\n",
    "            customers -= 1\n",
    "            d_time = service_time() + t\n",
    "            event_list.enqueue(Event(EventType.DEPARTURE, d_time))\n",
    "        else:\n",
    "            server_utilization += diff\n",
    "        next_arrival_time = interarrival_time() + t\n",
    "        arrival_event = Event(EventType.ARRIVAL, next_arrival_time)\n",
    "        event_list.enqueue(arrival_event)\n",
    "    elif next_event.event_type == EventType.DEPARTURE:\n",
    "        customer_departure.append(t)\n",
    "        if not free:\n",
    "            server_utilization += diff\n",
    "        free = True\n",
    "        if customers > 0:\n",
    "            free = False\n",
    "            customer_service.append(t)\n",
    "            customers -= 1\n",
    "            next_dept_time = t + service_time()\n",
    "            dept_event = Event(EventType.DEPARTURE, next_dept_time)\n",
    "            event_list.enqueue(dept_event)\n",
    "\n",
    "customer_service = np.array(customer_service)\n",
    "customer_arrival = np.array(customer_arrival)\n",
    "customer_departure = np.array(customer_departure)\n",
    "num_customers_line = np.array(num_customers_line)\n",
    "num_customers_system = np.array(num_customers_system)\n",
    "    "
   ]
  },
  {
   "cell_type": "code",
   "execution_count": 106,
   "metadata": {
    "collapsed": true
   },
   "outputs": [],
   "source": [
    "# get array of times spent in the queue\n",
    "time_spent_in_queue = customer_service - customer_arrival[0:len(customer_service)]\n",
    "\n",
    "# get array of times spent in system\n",
    "time_spent_in_system = customer_departure - customer_arrival[0:len(customer_departure)]"
   ]
  },
  {
   "cell_type": "code",
   "execution_count": 107,
   "metadata": {},
   "outputs": [
    {
     "data": {
      "text/plain": [
       "1.6403427818061964"
      ]
     },
     "execution_count": 107,
     "metadata": {},
     "output_type": "execute_result"
    }
   ],
   "source": [
    "np.mean(num_customers_system)"
   ]
  },
  {
   "cell_type": "code",
   "execution_count": 108,
   "metadata": {},
   "outputs": [
    {
     "data": {
      "text/plain": [
       "1.0186156888595912"
      ]
     },
     "execution_count": 108,
     "metadata": {},
     "output_type": "execute_result"
    }
   ],
   "source": [
    "np.mean(num_customers_line)"
   ]
  },
  {
   "cell_type": "code",
   "execution_count": 109,
   "metadata": {},
   "outputs": [
    {
     "data": {
      "text/plain": [
       "0.652576164874552"
      ]
     },
     "execution_count": 109,
     "metadata": {},
     "output_type": "execute_result"
    }
   ],
   "source": [
    "server_utilization / (time_to_simulate)"
   ]
  },
  {
   "cell_type": "code",
   "execution_count": 110,
   "metadata": {},
   "outputs": [
    {
     "data": {
      "text/plain": [
       "(array([  2.30690000e+04,   5.33000000e+03,   3.61900000e+03,\n",
       "          2.34400000e+03,   1.37100000e+03,   9.52000000e+02,\n",
       "          6.61000000e+02,   3.06000000e+02,   1.17000000e+02,\n",
       "          5.50000000e+01,   2.70000000e+01,   1.70000000e+01,\n",
       "          1.60000000e+01,   1.00000000e+00,   1.60000000e+01,\n",
       "          2.20000000e+01,   2.00000000e+00]),\n",
       " array([  0.        ,   0.94117647,   1.88235294,   2.82352941,\n",
       "          3.76470588,   4.70588235,   5.64705882,   6.58823529,\n",
       "          7.52941176,   8.47058824,   9.41176471,  10.35294118,\n",
       "         11.29411765,  12.23529412,  13.17647059,  14.11764706,\n",
       "         15.05882353,  16.        ]),\n",
       " <a list of 17 Patch objects>)"
      ]
     },
     "execution_count": 110,
     "metadata": {},
     "output_type": "execute_result"
    },
    {
     "data": {
      "image/png": "[encoded data removed]",
      "text/plain": [
       "<matplotlib.figure.Figure at 0x1a1bce3f28>"
      ]
     },
     "metadata": {},
     "output_type": "display_data"
    }
   ],
   "source": [
    "plt.hist(num_customers_line, bins=len(set(num_customers_line)))"
   ]
  },
  {
   "cell_type": "code",
   "execution_count": 111,
   "metadata": {},
   "outputs": [
    {
     "data": {
      "text/plain": [
       "(array([  1.43460000e+04,   8.72300000e+03,   5.33000000e+03,\n",
       "          3.61900000e+03,   2.34400000e+03,   1.37100000e+03,\n",
       "          9.52000000e+02,   6.61000000e+02,   3.06000000e+02,\n",
       "          1.17000000e+02,   5.50000000e+01,   2.70000000e+01,\n",
       "          1.70000000e+01,   1.60000000e+01,   1.00000000e+00,\n",
       "          1.60000000e+01,   2.40000000e+01]),\n",
       " array([  0.,   1.,   2.,   3.,   4.,   5.,   6.,   7.,   8.,   9.,  10.,\n",
       "         11.,  12.,  13.,  14.,  15.,  16.,  17.]),\n",
       " <a list of 17 Patch objects>)"
      ]
     },
     "execution_count": 111,
     "metadata": {},
     "output_type": "execute_result"
    },
    {
     "data": {
      "image/png": "[encoded data removed]",
      "text/plain": [
       "<matplotlib.figure.Figure at 0x1a1cae6898>"
      ]
     },
     "metadata": {},
     "output_type": "display_data"
    }
   ],
   "source": [
    "plt.hist(num_customers_system, bins=len(set(num_customers_line)))"
   ]
  },
  {
   "cell_type": "code",
   "execution_count": 112,
   "metadata": {},
   "outputs": [
    {
     "data": {
      "text/plain": [
       "{0: 0.37827290705339484,\n",
       " 1: 0.23000659195781148,\n",
       " 2: 0.14054054054054055,\n",
       " 3: 0.09542518127883981,\n",
       " 4: 0.061806196440342784,\n",
       " 5: 0.036150296638101515,\n",
       " 6: 0.025102175346077785,\n",
       " 7: 0.017429136453526697,\n",
       " 8: 0.008068556361239288,\n",
       " 9: 0.003085036255767963,\n",
       " 10: 0.0014502307185234014,\n",
       " 11: 0.0007119314436387607,\n",
       " 12: 0.00044825313117996047,\n",
       " 13: 0.00042188529993408044,\n",
       " 14: 2.6367831245880027e-05,\n",
       " 15: 0.00042188529993408044,\n",
       " 16: 0.0005800922874093606,\n",
       " 17: 5.2735662491760055e-05}"
      ]
     },
     "execution_count": 112,
     "metadata": {},
     "output_type": "execute_result"
    }
   ],
   "source": [
    "counts_to_table(num_customers_system)"
   ]
  },
  {
   "cell_type": "code",
   "execution_count": 113,
   "metadata": {},
   "outputs": [
    {
     "data": {
      "text/plain": [
       "{0: 0.6082794990112064,\n",
       " 1: 0.14054054054054055,\n",
       " 2: 0.09542518127883981,\n",
       " 3: 0.061806196440342784,\n",
       " 4: 0.036150296638101515,\n",
       " 5: 0.025102175346077785,\n",
       " 6: 0.017429136453526697,\n",
       " 7: 0.008068556361239288,\n",
       " 8: 0.003085036255767963,\n",
       " 9: 0.0014502307185234014,\n",
       " 10: 0.0007119314436387607,\n",
       " 11: 0.00044825313117996047,\n",
       " 12: 0.00042188529993408044,\n",
       " 13: 2.6367831245880027e-05,\n",
       " 14: 0.00042188529993408044,\n",
       " 15: 0.0005800922874093606,\n",
       " 16: 5.2735662491760055e-05}"
      ]
     },
     "execution_count": 113,
     "metadata": {},
     "output_type": "execute_result"
    }
   ],
   "source": [
    "counts_to_table(num_customers_line)"
   ]
  },
  {
   "cell_type": "code",
   "execution_count": 114,
   "metadata": {},
   "outputs": [
    {
     "data": {
      "text/plain": [
       "13.75228832951945"
      ]
     },
     "execution_count": 114,
     "metadata": {},
     "output_type": "execute_result"
    }
   ],
   "source": [
    "np.mean(time_spent_in_queue)"
   ]
  },
  {
   "cell_type": "code",
   "execution_count": 115,
   "metadata": {},
   "outputs": [
    {
     "data": {
      "text/plain": [
       "22.084954233409611"
      ]
     },
     "execution_count": 115,
     "metadata": {},
     "output_type": "execute_result"
    }
   ],
   "source": [
    "np.mean(time_spent_in_system)"
   ]
  },
  {
   "cell_type": "code",
   "execution_count": 116,
   "metadata": {},
   "outputs": [
    {
     "data": {
      "text/plain": [
       "[<matplotlib.lines.Line2D at 0x1a1d177908>]"
      ]
     },
     "execution_count": 116,
     "metadata": {},
     "output_type": "execute_result"
    },
    {
     "data": {
      "image/png": "[encoded data removed]",
      "text/plain": [
       "<matplotlib.figure.Figure at 0x1a1d12e3c8>"
      ]
     },
     "metadata": {},
     "output_type": "display_data"
    }
   ],
   "source": [
    "plt.plot(range(len(num_customers_system)), num_customers_system)"
   ]
  },
  {
   "cell_type": "code",
   "execution_count": 129,
   "metadata": {
    "collapsed": true
   },
   "outputs": [],
   "source": [
    "first_valid = 0\n",
    "for i, c in enumerate(customer_arrival):\n",
    "    if c >= 7000:\n",
    "        first_valid = i\n",
    "        break"
   ]
  },
  {
   "cell_type": "code",
   "execution_count": 130,
   "metadata": {},
   "outputs": [
    {
     "data": {
      "text/plain": [
       "519"
      ]
     },
     "execution_count": 130,
     "metadata": {},
     "output_type": "execute_result"
    }
   ],
   "source": [
    "first_valid"
   ]
  },
  {
   "cell_type": "code",
   "execution_count": 119,
   "metadata": {
    "collapsed": true
   },
   "outputs": [],
   "source": [
    "steady_arrivals = customer_arrival[first_valid:]\n",
    "steady_services = customer_service[first_valid:]\n",
    "steady_departures = customer_departure[first_valid:]"
   ]
  },
  {
   "cell_type": "code",
   "execution_count": 120,
   "metadata": {
    "collapsed": true
   },
   "outputs": [],
   "source": [
    "times_in_queue = steady_services - steady_arrivals[:len(steady_services)]\n",
    "times_in_system = steady_departures - steady_arrivals[:len(steady_departures)]"
   ]
  },
  {
   "cell_type": "code",
   "execution_count": 121,
   "metadata": {},
   "outputs": [
    {
     "data": {
      "text/plain": [
       "12.97834470483536"
      ]
     },
     "execution_count": 121,
     "metadata": {},
     "output_type": "execute_result"
    }
   ],
   "source": [
    "np.mean(times_in_queue)"
   ]
  },
  {
   "cell_type": "code",
   "execution_count": 122,
   "metadata": {},
   "outputs": [
    {
     "data": {
      "text/plain": [
       "21.294274695935925"
      ]
     },
     "execution_count": 122,
     "metadata": {},
     "output_type": "execute_result"
    }
   ],
   "source": [
    "np.mean(times_in_system)"
   ]
  },
  {
   "cell_type": "code",
   "execution_count": 123,
   "metadata": {},
   "outputs": [
    {
     "data": {
      "text/plain": [
       "0.96183939601921753"
      ]
     },
     "execution_count": 123,
     "metadata": {},
     "output_type": "execute_result"
    }
   ],
   "source": [
    "np.mean(num_customers_line[1500:])"
   ]
  },
  {
   "cell_type": "code",
   "execution_count": 124,
   "metadata": {},
   "outputs": [
    {
     "data": {
      "text/plain": [
       "1.5810295126973233"
      ]
     },
     "execution_count": 124,
     "metadata": {},
     "output_type": "execute_result"
    }
   ],
   "source": [
    "np.mean(num_customers_system[1500:])"
   ]
  },
  {
   "cell_type": "code",
   "execution_count": 125,
   "metadata": {
    "collapsed": true
   },
   "outputs": [],
   "source": [
    "rolling_average = []\n",
    "acc = 0.0\n",
    "n = 1.0\n",
    "for c in num_customers_system:\n",
    "    acc += c\n",
    "    rolling_average.append(acc/n)"
   ]
  },
  {
   "cell_type": "code",
   "execution_count": 131,
   "metadata": {},
   "outputs": [
    {
     "data": {
      "text/plain": [
       "[<matplotlib.lines.Line2D at 0x1a1da354e0>]"
      ]
     },
     "execution_count": 131,
     "metadata": {},
     "output_type": "execute_result"
    },
    {
     "data": {
      "image/png": "[encoded data removed]",
      "text/plain": [
       "<matplotlib.figure.Figure at 0x1a1d23e5f8>"
      ]
     },
     "metadata": {},
     "output_type": "display_data"
    }
   ],
   "source": [
    "rolling_average = np.array(rolling_average)\n",
    "plt.plot(range(len(rolling_average)), \n",
    "         rolling_average)"
   ]
  },
  {
   "cell_type": "code",
   "execution_count": 132,
   "metadata": {},
   "outputs": [
    {
     "data": {
      "text/plain": [
       "0.95687857562957812"
      ]
     },
     "execution_count": 132,
     "metadata": {},
     "output_type": "execute_result"
    }
   ],
   "source": [
    "np.mean(num_customers_line[first_valid:])"
   ]
  },
  {
   "cell_type": "code",
   "execution_count": 133,
   "metadata": {},
   "outputs": [
    {
     "data": {
      "text/plain": [
       "1.5742394268299202"
      ]
     },
     "execution_count": 133,
     "metadata": {},
     "output_type": "execute_result"
    }
   ],
   "source": [
    "np.mean(num_customers_system[first_valid:])"
   ]
  },
  {
   "cell_type": "code",
   "execution_count": null,
   "metadata": {
    "collapsed": true
   },
   "outputs": [],
   "source": []
  }
 ],
 "metadata": {
  "kernelspec": {
   "display_name": "Python 3",
   "language": "python",
   "name": "python3"
  },
  "language_info": {
   "codemirror_mode": {
    "name": "ipython",
    "version": 3
   },
   "file_extension": ".py",
   "mimetype": "text/x-python",
   "name": "python",
   "nbconvert_exporter": "python",
   "pygments_lexer": "ipython3",
   "version": "3.6.3"
  }
 },
 "nbformat": 4,
 "nbformat_minor": 2
}
