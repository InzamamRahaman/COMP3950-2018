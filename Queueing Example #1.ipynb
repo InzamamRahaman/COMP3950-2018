{
 "cells": [
  {
   "cell_type": "code",
   "execution_count": 1,
   "metadata": {},
   "outputs": [
    {
     "name": "stdout",
     "output_type": "stream",
     "text": [
      "Populating the interactive namespace from numpy and matplotlib\n"
     ]
    }
   ],
   "source": [
    "%pylab inline"
   ]
  },
  {
   "cell_type": "code",
   "execution_count": 38,
   "metadata": {
    "collapsed": true
   },
   "outputs": [],
   "source": [
    "import numpy as np\n",
    "import scipy.stats as stats\n",
    "from enum import Enum\n",
    "np.random.seed(100)"
   ]
  },
  {
   "cell_type": "code",
   "execution_count": 39,
   "metadata": {
    "collapsed": true
   },
   "outputs": [],
   "source": [
    "class EventType(Enum):\n",
    "    ARRIVAL = 0\n",
    "    DEPARTURE = 1"
   ]
  },
  {
   "cell_type": "code",
   "execution_count": 40,
   "metadata": {
    "collapsed": true
   },
   "outputs": [],
   "source": [
    "class Event(object):\n",
    "    def __init__(self, event_type, time):\n",
    "        self.event_type = event_type\n",
    "        self.time = time"
   ]
  },
  {
   "cell_type": "code",
   "execution_count": 41,
   "metadata": {
    "collapsed": true
   },
   "outputs": [],
   "source": [
    "class EventList(object):\n",
    "    def __init__(self):\n",
    "        self.events = []\n",
    "        \n",
    "    def __len__(self):\n",
    "        return len(self.events)\n",
    "        \n",
    "    def is_empty(self):\n",
    "        return len(self) == 0\n",
    "        \n",
    "    def get_first(self):\n",
    "        first = self.events[0]\n",
    "        return first\n",
    "    \n",
    "    def enqueue(self, event):\n",
    "        self.events.append(event)\n",
    "        self.sort()\n",
    "    \n",
    "    def dequeue(self):\n",
    "        self.sort()\n",
    "        first = self.get_first()\n",
    "        self.events = self.events[1:]\n",
    "        return first\n",
    "    \n",
    "    def sort(self):\n",
    "        self.events = sorted(self.events, key=lambda x: x.time)\n",
    "        self.events = list(self.events)\n",
    "        "
   ]
  },
  {
   "cell_type": "code",
   "execution_count": 42,
   "metadata": {
    "collapsed": true
   },
   "outputs": [],
   "source": [
    "def interarrival_time():\n",
    "    return int(np.ceil(np.random.exponential(12)))\n",
    "\n",
    "def service_time():\n",
    "    return int(np.ceil(np.random.exponential(8)))\n",
    "\n",
    "def counts_to_table(counts):\n",
    "    values = set(counts)\n",
    "    l = float(len(counts))\n",
    "    probs = dict()\n",
    "    for v in values:\n",
    "        probs[v] = len(counts[counts == v])/l\n",
    "    return probs\n",
    "        "
   ]
  },
  {
   "cell_type": "code",
   "execution_count": 43,
   "metadata": {
    "collapsed": true
   },
   "outputs": [],
   "source": [
    "# assuming a FCFS queue\n",
    "# we log the arrival time, time of service, and departure time for each\n",
    "# customer who enters Rituals\n",
    "customer_arrival = []\n",
    "customer_departure = []\n",
    "customer_service = []\n",
    "num_customers_system = [] # logs num customers for any particular point in time\n",
    "num_customers_line = []\n",
    "server_utilization = 0\n",
    "event_list = EventList()\n",
    "first_arrival = interarrival_time()\n",
    "event_list.enqueue(Event(EventType.ARRIVAL, first_arrival))\n",
    "\n",
    "time_to_simulate = 60 * 24 * 31\n",
    "free = True\n",
    "customers = 0\n",
    "t = 0"
   ]
  },
  {
   "cell_type": "code",
   "execution_count": 44,
   "metadata": {},
   "outputs": [],
   "source": [
    "\n",
    "while t < time_to_simulate:\n",
    "    next_event = event_list.dequeue()\n",
    "    lt = t\n",
    "    t = next_event.time\n",
    "    if t > time_to_simulate:\n",
    "        break\n",
    "    diff = t - lt\n",
    "    num_customers_line.extend([customers] * (diff - 1))\n",
    "    if free:\n",
    "        num_customers_system.extend([0] * (diff - 1))\n",
    "    else:\n",
    "        num_customers_system.extend([customers + 1] * (diff - 1))\n",
    "    if next_event.event_type == EventType.ARRIVAL:\n",
    "        customer_arrival.append(t)\n",
    "        customers += 1\n",
    "        if free:\n",
    "            free = False\n",
    "            customer_service.append(t)\n",
    "            customers -= 1\n",
    "            d_time = service_time() + t\n",
    "            event_list.enqueue(Event(EventType.DEPARTURE, d_time))\n",
    "        next_arrival_time = interarrival_time() + t\n",
    "        arrival_event = Event(EventType.ARRIVAL, next_arrival_time)\n",
    "        event_list.enqueue(arrival_event)\n",
    "    elif next_event.event_type == EventType.DEPARTURE:\n",
    "        customer_departure.append(t)\n",
    "        free = True\n",
    "        if customers > 0:\n",
    "            free = False\n",
    "            customer_service.append(t)\n",
    "            customers -= 1\n",
    "            next_dept_time = t + service_time()\n",
    "            dept_event = Event(EventType.DEPARTURE, next_dept_time)\n",
    "            event_list.enqueue(dept_event)\n",
    "\n",
    "customer_service = np.array(customer_service)\n",
    "customer_arrival = np.array(customer_arrival)\n",
    "customer_departure = np.array(customer_departure)\n",
    "num_customers_line = np.array(num_customers_line)\n",
    "num_customers_system = np.array(num_customers_system)\n",
    "    "
   ]
  },
  {
   "cell_type": "code",
   "execution_count": 45,
   "metadata": {
    "collapsed": true
   },
   "outputs": [],
   "source": [
    "# get array of times spent in the queue\n",
    "time_spent_in_queue = customer_service - customer_arrival[0:len(customer_service)]\n",
    "\n",
    "# get array of times spent in system\n",
    "time_spent_in_system = customer_departure - customer_arrival[0:len(customer_departure)]\n",
    "\n",
    "#service times\n",
    "service_times = customer_departure - customer_service[0:len(customer_departure)]\n",
    "total_service_time = sum(service_times)\n",
    "utilization = total_service_time / time_to_simulate"
   ]
  },
  {
   "cell_type": "code",
   "execution_count": 46,
   "metadata": {},
   "outputs": [
    {
     "data": {
      "text/plain": [
       "0.67719534050179209"
      ]
     },
     "execution_count": 46,
     "metadata": {},
     "output_type": "execute_result"
    }
   ],
   "source": [
    "utilization\n"
   ]
  },
  {
   "cell_type": "code",
   "execution_count": 47,
   "metadata": {},
   "outputs": [
    {
     "data": {
      "text/plain": [
       "1.7166860711261642"
      ]
     },
     "execution_count": 47,
     "metadata": {},
     "output_type": "execute_result"
    }
   ],
   "source": [
    "np.mean(num_customers_system)"
   ]
  },
  {
   "cell_type": "code",
   "execution_count": 48,
   "metadata": {},
   "outputs": [
    {
     "data": {
      "text/plain": [
       "1.0670512277730737"
      ]
     },
     "execution_count": 48,
     "metadata": {},
     "output_type": "execute_result"
    }
   ],
   "source": [
    "np.mean(num_customers_line)"
   ]
  },
  {
   "cell_type": "code",
   "execution_count": 49,
   "metadata": {},
   "outputs": [
    {
     "data": {
      "text/plain": [
       "(array([  2.22280000e+04,   5.87500000e+03,   3.42800000e+03,\n",
       "          2.39500000e+03,   1.67000000e+03,   8.49000000e+02,\n",
       "          6.15000000e+02,   3.92000000e+02,   1.83000000e+02,\n",
       "          6.30000000e+01,   2.50000000e+01,   6.10000000e+01,\n",
       "          5.00000000e+00,   3.00000000e+00]),\n",
       " array([  0.        ,   0.92857143,   1.85714286,   2.78571429,\n",
       "          3.71428571,   4.64285714,   5.57142857,   6.5       ,\n",
       "          7.42857143,   8.35714286,   9.28571429,  10.21428571,\n",
       "         11.14285714,  12.07142857,  13.        ]),\n",
       " <a list of 14 Patch objects>)"
      ]
     },
     "execution_count": 49,
     "metadata": {},
     "output_type": "execute_result"
    },
    {
     "data": {
      "image/png": "[encoded data removed]",
      "text/plain": [
       "<matplotlib.figure.Figure at 0x11266f320>"
      ]
     },
     "metadata": {},
     "output_type": "display_data"
    }
   ],
   "source": [
    "plt.hist(num_customers_line, bins=len(set(num_customers_line)))"
   ]
  },
  {
   "cell_type": "code",
   "execution_count": 50,
   "metadata": {},
   "outputs": [
    {
     "data": {
      "text/plain": [
       "(array([  1.32410000e+04,   8.98700000e+03,   5.87500000e+03,\n",
       "          3.42800000e+03,   2.39500000e+03,   1.67000000e+03,\n",
       "          8.49000000e+02,   6.15000000e+02,   3.92000000e+02,\n",
       "          1.83000000e+02,   6.30000000e+01,   2.50000000e+01,\n",
       "          6.10000000e+01,   8.00000000e+00]),\n",
       " array([  0.,   1.,   2.,   3.,   4.,   5.,   6.,   7.,   8.,   9.,  10.,\n",
       "         11.,  12.,  13.,  14.]),\n",
       " <a list of 14 Patch objects>)"
      ]
     },
     "execution_count": 50,
     "metadata": {},
     "output_type": "execute_result"
    },
    {
     "data": {
      "image/png": "[encoded data removed]",
      "text/plain": [
       "<matplotlib.figure.Figure at 0x11afa42b0>"
      ]
     },
     "metadata": {},
     "output_type": "display_data"
    }
   ],
   "source": [
    "plt.hist(num_customers_system, bins=len(set(num_customers_line)))"
   ]
  },
  {
   "cell_type": "code",
   "execution_count": 51,
   "metadata": {},
   "outputs": [
    {
     "data": {
      "text/plain": [
       "{0: 0.3503651566469094,\n",
       " 1: 0.23780165114309906,\n",
       " 2: 0.15545618120237087,\n",
       " 3: 0.09070702794242168,\n",
       " 4: 0.06337320067739204,\n",
       " 5: 0.044189246401354784,\n",
       " 6: 0.02246507197290432,\n",
       " 7: 0.01627328535139712,\n",
       " 8: 0.010372565622353938,\n",
       " 9: 0.00484229466553768,\n",
       " 10: 0.0016670194750211685,\n",
       " 11: 0.0006615156646909399,\n",
       " 12: 0.0016140982218458932,\n",
       " 13: 0.00013230313293818797,\n",
       " 14: 7.938187976291278e-05}"
      ]
     },
     "execution_count": 51,
     "metadata": {},
     "output_type": "execute_result"
    }
   ],
   "source": [
    "counts_to_table(num_customers_system)"
   ]
  },
  {
   "cell_type": "code",
   "execution_count": 52,
   "metadata": {},
   "outputs": [
    {
     "data": {
      "text/plain": [
       "{0: 0.5881668077900085,\n",
       " 1: 0.15545618120237087,\n",
       " 2: 0.09070702794242168,\n",
       " 3: 0.06337320067739204,\n",
       " 4: 0.044189246401354784,\n",
       " 5: 0.02246507197290432,\n",
       " 6: 0.01627328535139712,\n",
       " 7: 0.010372565622353938,\n",
       " 8: 0.00484229466553768,\n",
       " 9: 0.0016670194750211685,\n",
       " 10: 0.0006615156646909399,\n",
       " 11: 0.0016140982218458932,\n",
       " 12: 0.00013230313293818797,\n",
       " 13: 7.938187976291278e-05}"
      ]
     },
     "execution_count": 52,
     "metadata": {},
     "output_type": "execute_result"
    }
   ],
   "source": [
    "counts_to_table(num_customers_line)"
   ]
  },
  {
   "cell_type": "code",
   "execution_count": 53,
   "metadata": {},
   "outputs": [
    {
     "data": {
      "text/plain": [
       "13.962921348314607"
      ]
     },
     "execution_count": 53,
     "metadata": {},
     "output_type": "execute_result"
    }
   ],
   "source": [
    "np.mean(time_spent_in_queue)"
   ]
  },
  {
   "cell_type": "code",
   "execution_count": 54,
   "metadata": {},
   "outputs": [
    {
     "data": {
      "text/plain": [
       "22.454494382022471"
      ]
     },
     "execution_count": 54,
     "metadata": {},
     "output_type": "execute_result"
    }
   ],
   "source": [
    "np.mean(time_spent_in_system)"
   ]
  },
  {
   "cell_type": "code",
   "execution_count": 55,
   "metadata": {},
   "outputs": [
    {
     "data": {
      "text/plain": [
       "[<matplotlib.lines.Line2D at 0x11b16fbe0>]"
      ]
     },
     "execution_count": 55,
     "metadata": {},
     "output_type": "execute_result"
    },
    {
     "data": {
      "image/png": "[encoded data removed]",
      "text/plain": [
       "<matplotlib.figure.Figure at 0x11afbd160>"
      ]
     },
     "metadata": {},
     "output_type": "display_data"
    }
   ],
   "source": [
    "plt.plot(range(len(num_customers_system)), num_customers_system)"
   ]
  },
  {
   "cell_type": "code",
   "execution_count": 56,
   "metadata": {
    "collapsed": true
   },
   "outputs": [],
   "source": [
    "rolling_average = []\n",
    "acc = 0.0\n",
    "n = 1.0\n",
    "for c in num_customers_system:\n",
    "    acc += c\n",
    "    rolling_average.append(acc/n)"
   ]
  },
  {
   "cell_type": "code",
   "execution_count": 57,
   "metadata": {},
   "outputs": [
    {
     "data": {
      "text/plain": [
       "[<matplotlib.lines.Line2D at 0x11bc832b0>]"
      ]
     },
     "execution_count": 57,
     "metadata": {},
     "output_type": "execute_result"
    },
    {
     "data": {
      "image/png": "[encoded data removed]",
      "text/plain": [
       "<matplotlib.figure.Figure at 0x11b179438>"
      ]
     },
     "metadata": {},
     "output_type": "display_data"
    }
   ],
   "source": [
    "rolling_average = np.array(rolling_average)\n",
    "plt.plot(range(len(rolling_average)), \n",
    "         rolling_average)"
   ]
  },
  {
   "cell_type": "code",
   "execution_count": 58,
   "metadata": {
    "collapsed": true
   },
   "outputs": [],
   "source": [
    "first_valid = 0\n",
    "for i, c in enumerate(customer_arrival):\n",
    "    if c >= 15000:\n",
    "        first_valid = i\n",
    "        break"
   ]
  },
  {
   "cell_type": "code",
   "execution_count": 59,
   "metadata": {},
   "outputs": [
    {
     "data": {
      "text/plain": [
       "1227"
      ]
     },
     "execution_count": 59,
     "metadata": {},
     "output_type": "execute_result"
    }
   ],
   "source": [
    "first_valid"
   ]
  },
  {
   "cell_type": "code",
   "execution_count": 60,
   "metadata": {
    "collapsed": true
   },
   "outputs": [],
   "source": [
    "steady_arrivals = customer_arrival[first_valid:]\n",
    "steady_services = customer_service[first_valid:]\n",
    "steady_departures = customer_departure[first_valid:]"
   ]
  },
  {
   "cell_type": "code",
   "execution_count": 61,
   "metadata": {
    "collapsed": true
   },
   "outputs": [],
   "source": [
    "times_in_service = steady_departures - steady_services[:len(steady_departures)]\n",
    "times_in_queue = steady_services - steady_arrivals[:len(steady_services)]\n",
    "times_in_system = steady_departures - steady_arrivals[:len(steady_departures)]"
   ]
  },
  {
   "cell_type": "code",
   "execution_count": 62,
   "metadata": {},
   "outputs": [
    {
     "data": {
      "text/plain": [
       "15.249035576510931"
      ]
     },
     "execution_count": 62,
     "metadata": {},
     "output_type": "execute_result"
    }
   ],
   "source": [
    "np.mean(times_in_queue)"
   ]
  },
  {
   "cell_type": "code",
   "execution_count": 63,
   "metadata": {},
   "outputs": [
    {
     "data": {
      "text/plain": [
       "23.94556365195028"
      ]
     },
     "execution_count": 63,
     "metadata": {},
     "output_type": "execute_result"
    }
   ],
   "source": [
    "np.mean(times_in_system)"
   ]
  },
  {
   "cell_type": "code",
   "execution_count": 64,
   "metadata": {
    "collapsed": true
   },
   "outputs": [],
   "source": [
    "utilization = sum(times_in_service) / (time_to_simulate - customer_arrival[first_valid])"
   ]
  },
  {
   "cell_type": "code",
   "execution_count": 65,
   "metadata": {},
   "outputs": [
    {
     "name": "stdout",
     "output_type": "stream",
     "text": [
      "0.684953242632\n"
     ]
    }
   ],
   "source": [
    "print(utilization)"
   ]
  },
  {
   "cell_type": "code",
   "execution_count": 66,
   "metadata": {},
   "outputs": [
    {
     "data": {
      "text/plain": [
       "1.1739340447020594"
      ]
     },
     "execution_count": 66,
     "metadata": {},
     "output_type": "execute_result"
    }
   ],
   "source": [
    "np.mean(num_customers_line[customer_arrival[first_valid]:])"
   ]
  },
  {
   "cell_type": "code",
   "execution_count": 67,
   "metadata": {},
   "outputs": [
    {
     "data": {
      "text/plain": [
       "1.8316866464673078"
      ]
     },
     "execution_count": 67,
     "metadata": {},
     "output_type": "execute_result"
    }
   ],
   "source": [
    "np.mean(num_customers_system[customer_arrival[first_valid]:])"
   ]
  },
  {
   "cell_type": "code",
   "execution_count": null,
   "metadata": {
    "collapsed": true
   },
   "outputs": [],
   "source": []
  },
  {
   "cell_type": "code",
   "execution_count": null,
   "metadata": {
    "collapsed": true
   },
   "outputs": [],
   "source": []
  }
 ],
 "metadata": {
  "kernelspec": {
   "display_name": "Python 3",
   "language": "python",
   "name": "python3"
  },
  "language_info": {
   "codemirror_mode": {
    "name": "ipython",
    "version": 3
   },
   "file_extension": ".py",
   "mimetype": "text/x-python",
   "name": "python",
   "nbconvert_exporter": "python",
   "pygments_lexer": "ipython3",
   "version": "3.6.3"
  }
 },
 "nbformat": 4,
 "nbformat_minor": 2
}
