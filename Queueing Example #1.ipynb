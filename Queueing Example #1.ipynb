{
 "cells": [
  {
   "cell_type": "code",
   "execution_count": 1,
   "metadata": {},
   "outputs": [
    {
     "name": "stdout",
     "output_type": "stream",
     "text": [
      "Populating the interactive namespace from numpy and matplotlib\n"
     ]
    }
   ],
   "source": [
    "%pylab inline"
   ]
  },
  {
   "cell_type": "code",
   "execution_count": 2,
   "metadata": {},
   "outputs": [],
   "source": [
    "import numpy as np\n",
    "import scipy.stats as stats\n",
    "from enum import Enum"
   ]
  },
  {
   "cell_type": "code",
   "execution_count": 3,
   "metadata": {},
   "outputs": [],
   "source": [
    "class EventType(Enum):\n",
    "    ARRIVAL = 0\n",
    "    DEPARTURE = 1"
   ]
  },
  {
   "cell_type": "code",
   "execution_count": 4,
   "metadata": {},
   "outputs": [],
   "source": [
    "class Event(object):\n",
    "    def __init__(self, event_type, time):\n",
    "        self.event_type = event_type\n",
    "        self.time = time"
   ]
  },
  {
   "cell_type": "code",
   "execution_count": 314,
   "metadata": {},
   "outputs": [],
   "source": [
    "class EventList(object):\n",
    "    def __init__(self):\n",
    "        self.events = []\n",
    "        \n",
    "    def __len__(self):\n",
    "        return len(self.events)\n",
    "        \n",
    "    def is_empty(self):\n",
    "        return len(self) == 0\n",
    "        \n",
    "    def get_first(self):\n",
    "        first = self.events[0]\n",
    "        return first\n",
    "    \n",
    "    def enqueue(self, event):\n",
    "        self.events.append(event)\n",
    "        self.sort()\n",
    "    \n",
    "    def dequeue(self):\n",
    "        self.sort()\n",
    "        first = self.get_first()\n",
    "        self.events = self.events[1:]\n",
    "        return first\n",
    "    \n",
    "    def sort(self):\n",
    "        self.events = sorted(self.events, key=lambda x: x.time)\n",
    "        self.events = list(self.events)\n",
    "        "
   ]
  },
  {
   "cell_type": "code",
   "execution_count": 315,
   "metadata": {},
   "outputs": [],
   "source": [
    "def interarrival_time():\n",
    "    return int(np.ceil(np.random.exponential(12)))\n",
    "\n",
    "def service_time():\n",
    "    return int(np.ceil(np.random.exponential(8)))\n",
    "\n",
    "def counts_to_table(counts):\n",
    "    values = set(counts)\n",
    "    l = float(len(counts))\n",
    "    probs = dict()\n",
    "    for v in values:\n",
    "        probs[v] = len(counts[counts == v])/l\n",
    "    return probs\n",
    "        "
   ]
  },
  {
   "cell_type": "code",
   "execution_count": 316,
   "metadata": {},
   "outputs": [],
   "source": [
    "# assuming a FCFS queue\n",
    "# we log the arrival time, time of service, and departure time for each\n",
    "# customer who enters Rituals\n",
    "customer_arrival = []\n",
    "customer_departure = []\n",
    "customer_service = []\n",
    "num_customers_system = [] # logs num customers for any particular point in time\n",
    "num_customers_line = []\n",
    "server_utilization = 0\n",
    "event_list = EventList()\n",
    "first_arrival = interarrival_time()\n",
    "event_list.enqueue(Event(EventType.ARRIVAL, first_arrival))\n",
    "\n",
    "time_to_simulate = 60 * 24 * 5\n",
    "free = True\n",
    "customers = 0\n",
    "t = 0"
   ]
  },
  {
   "cell_type": "code",
   "execution_count": 317,
   "metadata": {},
   "outputs": [],
   "source": [
    "\n",
    "while t < time_to_simulate:\n",
    "    next_event = event_list.dequeue()\n",
    "    lt = t\n",
    "    t = next_event.time\n",
    "    if t > time_to_simulate:\n",
    "        break\n",
    "    diff = t - lt\n",
    "    num_customers_line.extend([customers] * (diff - 1))\n",
    "    if free:\n",
    "        num_customers_system.extend([0] * (diff - 1))\n",
    "    else:\n",
    "        num_customers_system.extend([customers + 1] * (diff - 1))\n",
    "    if next_event.event_type == EventType.ARRIVAL:\n",
    "        customer_arrival.append(t)\n",
    "        customers += 1\n",
    "        if free:\n",
    "            free = False\n",
    "            customer_service.append(t)\n",
    "            customers -= 1\n",
    "            d_time = service_time() + t\n",
    "            event_list.enqueue(Event(EventType.DEPARTURE, d_time))\n",
    "        else:\n",
    "            server_utilization += diff\n",
    "        next_arrival_time = interarrival_time() + t\n",
    "        arrival_event = Event(EventType.ARRIVAL, next_arrival_time)\n",
    "        event_list.enqueue(arrival_event)\n",
    "    elif next_event.event_type == EventType.DEPARTURE:\n",
    "        customer_departure.append(t)\n",
    "        if not free:\n",
    "            server_utilization += diff\n",
    "        free = True\n",
    "        if customers > 0:\n",
    "            free = False\n",
    "            customer_service.append(t)\n",
    "            customers -= 1\n",
    "            next_dept_time = t + service_time()\n",
    "            dept_event = Event(EventType.DEPARTURE, next_dept_time)\n",
    "            event_list.enqueue(dept_event)\n",
    "\n",
    "customer_service = np.array(customer_service)\n",
    "customer_arrival = np.array(customer_arrival)\n",
    "customer_departure = np.array(customer_departure)\n",
    "num_customers_line = np.array(num_customers_line)\n",
    "num_customers_system = np.array(num_customers_system)\n",
    "    "
   ]
  },
  {
   "cell_type": "code",
   "execution_count": 318,
   "metadata": {},
   "outputs": [],
   "source": [
    "# get array of times spent in the queue\n",
    "time_spent_in_queue = customer_service - customer_arrival[0:len(customer_service)]\n",
    "\n",
    "# get array of times spent in system\n",
    "time_spent_in_system = customer_departure - customer_arrival[0:len(customer_departure)]"
   ]
  },
  {
   "cell_type": "code",
   "execution_count": 319,
   "metadata": {},
   "outputs": [
    {
     "data": {
      "text/plain": [
       "2.0082385895534682"
      ]
     },
     "execution_count": 319,
     "metadata": {},
     "output_type": "execute_result"
    }
   ],
   "source": [
    "np.mean(num_customers_system)"
   ]
  },
  {
   "cell_type": "code",
   "execution_count": 320,
   "metadata": {},
   "outputs": [
    {
     "data": {
      "text/plain": [
       "1.3181743285549514"
      ]
     },
     "execution_count": 320,
     "metadata": {},
     "output_type": "execute_result"
    }
   ],
   "source": [
    "np.mean(num_customers_line)"
   ]
  },
  {
   "cell_type": "code",
   "execution_count": 321,
   "metadata": {},
   "outputs": [
    {
     "data": {
      "text/plain": [
       "0.7155555555555555"
      ]
     },
     "execution_count": 321,
     "metadata": {},
     "output_type": "execute_result"
    }
   ],
   "source": [
    "server_utilization / (time_to_simulate)"
   ]
  },
  {
   "cell_type": "code",
   "execution_count": 322,
   "metadata": {},
   "outputs": [
    {
     "data": {
      "text/plain": [
       "(array([ 3191.,   871.,   775.,   477.,   321.,   160.,    72.,    63.,\n",
       "           69.,    61.,     9.]),\n",
       " array([  0.        ,   0.90909091,   1.81818182,   2.72727273,\n",
       "          3.63636364,   4.54545455,   5.45454545,   6.36363636,\n",
       "          7.27272727,   8.18181818,   9.09090909,  10.        ]),\n",
       " <a list of 11 Patch objects>)"
      ]
     },
     "execution_count": 322,
     "metadata": {},
     "output_type": "execute_result"
    },
    {
     "data": {
      "image/png": "[encoded data removed]",
      "text/plain": [
       "<matplotlib.figure.Figure at 0x11d2ba0f0>"
      ]
     },
     "metadata": {},
     "output_type": "display_data"
    }
   ],
   "source": [
    "plt.hist(num_customers_line, bins=len(set(num_customers_line)))"
   ]
  },
  {
   "cell_type": "code",
   "execution_count": 323,
   "metadata": {},
   "outputs": [
    {
     "data": {
      "text/plain": [
       "(array([ 1881.,  1310.,   871.,   775.,   477.,   321.,   160.,    72.,\n",
       "           63.,    69.,    70.]),\n",
       " array([  0.,   1.,   2.,   3.,   4.,   5.,   6.,   7.,   8.,   9.,  10.,\n",
       "         11.]),\n",
       " <a list of 11 Patch objects>)"
      ]
     },
     "execution_count": 323,
     "metadata": {},
     "output_type": "execute_result"
    },
    {
     "data": {
      "image/png": "[encoded data removed]",
      "text/plain": [
       "<matplotlib.figure.Figure at 0x11d213908>"
      ]
     },
     "metadata": {},
     "output_type": "display_data"
    }
   ],
   "source": [
    "plt.hist(num_customers_system, bins=len(set(num_customers_line)))"
   ]
  },
  {
   "cell_type": "code",
   "execution_count": 324,
   "metadata": {},
   "outputs": [
    {
     "data": {
      "text/plain": [
       "{0: 0.30993573900148297,\n",
       " 1: 0.2158510463008733,\n",
       " 2: 0.14351623002142033,\n",
       " 3: 0.1276981380787609,\n",
       " 4: 0.07859614434008898,\n",
       " 5: 0.052891744933267426,\n",
       " 6: 0.026363486571099028,\n",
       " 7: 0.011863568956994563,\n",
       " 8: 0.010380622837370242,\n",
       " 9: 0.011369253583786456,\n",
       " 10: 0.010051079255231504,\n",
       " 11: 0.0014829461196243204}"
      ]
     },
     "execution_count": 324,
     "metadata": {},
     "output_type": "execute_result"
    }
   ],
   "source": [
    "counts_to_table(num_customers_system)"
   ]
  },
  {
   "cell_type": "code",
   "execution_count": 325,
   "metadata": {},
   "outputs": [
    {
     "data": {
      "text/plain": [
       "{0: 0.5257867853023562,\n",
       " 1: 0.14351623002142033,\n",
       " 2: 0.1276981380787609,\n",
       " 3: 0.07859614434008898,\n",
       " 4: 0.052891744933267426,\n",
       " 5: 0.026363486571099028,\n",
       " 6: 0.011863568956994563,\n",
       " 7: 0.010380622837370242,\n",
       " 8: 0.011369253583786456,\n",
       " 9: 0.010051079255231504,\n",
       " 10: 0.0014829461196243204}"
      ]
     },
     "execution_count": 325,
     "metadata": {},
     "output_type": "execute_result"
    }
   ],
   "source": [
    "counts_to_table(num_customers_line)"
   ]
  },
  {
   "cell_type": "code",
   "execution_count": 326,
   "metadata": {},
   "outputs": [
    {
     "data": {
      "text/plain": [
       "16.70320404721754"
      ]
     },
     "execution_count": 326,
     "metadata": {},
     "output_type": "execute_result"
    }
   ],
   "source": [
    "np.mean(time_spent_in_queue)"
   ]
  },
  {
   "cell_type": "code",
   "execution_count": 327,
   "metadata": {},
   "outputs": [
    {
     "data": {
      "text/plain": [
       "25.41722972972973"
      ]
     },
     "execution_count": 327,
     "metadata": {},
     "output_type": "execute_result"
    }
   ],
   "source": [
    "np.mean(time_spent_in_system)"
   ]
  },
  {
   "cell_type": "code",
   "execution_count": 328,
   "metadata": {},
   "outputs": [
    {
     "data": {
      "text/plain": [
       "array([ 0, 27, 17, 17, 18, 19, 27, 28, 16, 11,  0,  0,  0,  7, 14,  0,  0,\n",
       "        3,  3,  1,  0,  0,  0,  0,  0,  0,  5,  8,  6,  0,  0, 12, 16,  0,\n",
       "       48, 34, 37, 30, 21, 49, 48, 44, 65, 69, 44, 53, 67, 91, 91, 90, 93,\n",
       "       91, 84, 93, 88, 70, 59, 64, 36, 39, 51, 54, 50, 37, 44, 42,  5,  8,\n",
       "       15, 31, 28, 28, 28, 11, 10, 19, 15, 13, 39, 22, 32, 32, 36, 23, 22,\n",
       "        9, 25, 24, 12,  0,  2,  2, 14,  1,  0, 27, 11,  9,  0,  0,  7,  0,\n",
       "       23, 14,  0,  0,  0,  0,  3,  7,  0,  0,  0,  0,  0,  0,  0,  0,  4,\n",
       "        0,  0,  0,  1, 14, 41, 24, 11,  0,  2,  0,  0,  0,  6, 20, 17,  0,\n",
       "        0,  0,  0,  2, 11, 17, 21, 17, 14,  0,  0, 23,  9,  9, 11, 11, 31,\n",
       "       23, 23, 19,  2,  9, 13,  0,  0,  0,  0,  0,  0,  0,  3,  2,  0,  0,\n",
       "        3,  0,  2,  8, 21,  7, 11,  7,  1, 20, 21, 29, 34, 28, 12,  9, 10,\n",
       "        0,  1,  0,  0,  4,  0, 11, 15, 29, 27, 26,  4,  7, 11, 15, 30, 34,\n",
       "       29, 45, 57, 54, 65, 34,  0,  0,  0,  2,  6, 21, 19, 21,  9,  0,  0,\n",
       "        0,  0,  0,  0,  0,  0,  2, 45, 37, 49, 44,  0,  0,  0,  0,  8, 42,\n",
       "       44, 29, 23, 23,  0,  2,  9,  7,  7,  7, 14,  6,  5,  0, 12, 16,  0,\n",
       "        1, 15,  2,  0,  9, 21, 19,  5,  0,  0,  0, 11,  0, 24, 36,  0,  0,\n",
       "        0,  0,  3,  9, 21, 20, 21,  3,  0,  0,  0,  0,  0,  0,  0, 17, 24,\n",
       "       24, 22, 11, 26, 22, 32, 23, 12, 11,  0,  0,  0,  1, 22, 15, 14, 15,\n",
       "       12, 14,  8,  8,  0,  0,  0,  0, 14, 20,  0,  5, 19, 17, 18, 32, 29,\n",
       "       26, 33, 38, 42, 29,  0,  0,  0,  0,  0, 13, 17, 19,  0,  0,  0,  0,\n",
       "        9,  4,  4,  0,  0,  1,  1,  0, 15, 20, 24, 37, 33, 48, 52, 52, 46,\n",
       "       62, 57, 36, 41, 44, 51, 68, 73, 77, 66, 69, 64, 62, 67, 50, 59, 50,\n",
       "       46, 50, 24, 60, 58, 57, 38, 37, 29, 32, 51, 39, 47, 40, 25, 39, 43,\n",
       "       32, 38, 44, 28, 30, 25, 30, 20,  0,  0,  0,  0,  0,  6,  2,  6,  0,\n",
       "       13, 16,  6,  0, 30, 29, 41, 50, 55, 52, 33,  5, 13,  9, 14, 14, 18,\n",
       "       33, 38, 35, 47, 43, 40, 48, 27, 31,  0,  0,  3,  0,  0,  0,  0,  0,\n",
       "       30, 23, 37, 44, 29, 31, 23, 12,  8,  0,  0,  0,  0,  7,  0,  6,  0,\n",
       "        0,  0,  7,  0,  0,  0,  0,  0,  9,  9,  5, 21, 29, 12, 18, 35, 28,\n",
       "       14,  7, 14, 24,  0,  6, 28, 22,  5, 23,  0,  4, 13,  6,  9,  9, 29,\n",
       "        4,  0,  2,  0,  0,  0,  0,  0,  0,  5,  8,  6, 13,  0,  0, 15,  9,\n",
       "        0,  0,  0,  0,  5,  2,  0,  0,  3,  2,  5,  5,  5,  0,  2,  0,  0,\n",
       "        0,  4,  0,  0,  1,  0,  0,  1,  0,  0,  0, 13,  9, 13, 11, 20, 17,\n",
       "        8, 17, 50, 52, 51, 41, 49, 13,  6,  8,  9, 24, 20, 37, 37, 22, 18,\n",
       "       14, 15, 11, 16,  4,  7,  4, 14,  0,  1,  2,  4,  0,  0, 10,  9,  8,\n",
       "        6,  1,  0,  0, 19, 17,  4, 11,  2, 17, 22, 23, 21,  2,  0])"
      ]
     },
     "execution_count": 328,
     "metadata": {},
     "output_type": "execute_result"
    }
   ],
   "source": [
    "time_spent_in_queue"
   ]
  },
  {
   "cell_type": "code",
   "execution_count": 313,
   "metadata": {},
   "outputs": [
    {
     "data": {
      "text/plain": [
       "array([ 8,  7, 21,  8,  8, 12, 14, 10,  6,  4,  1,  3,  4,  7,  4, 17, 26,\n",
       "       20, 24, 25,  2,  1,  4,  2, 14, 30, 30, 30, 10,  2,  3,  7,  3,  5,\n",
       "        6, 27, 63, 45, 33, 33, 36, 31, 27, 35, 40, 43, 45, 42, 41,  1,  5,\n",
       "        9,  2, 26, 26, 28,  2,  3, 17,  7,  4, 20, 36, 41, 36, 34, 40, 37,\n",
       "       41, 28, 28, 19, 45, 61, 61, 55, 54, 55, 55, 59, 44, 42, 45, 44, 48,\n",
       "       48, 48, 52, 60, 57, 50, 28,  2, 17,  6,  4,  3,  7,  1,  6,  7,  7,\n",
       "        7,  5, 32, 36, 28, 35, 24, 15, 15,  9, 10,  4,  7,  2,  4, 18, 37,\n",
       "       26, 22, 23,  9, 18, 20,  8,  7, 22, 16,  5,  2, 15, 31, 43, 45, 12,\n",
       "       28, 26, 26, 23,  1, 27, 37, 66, 64, 64, 54, 53, 31, 21, 16, 20, 23,\n",
       "        1,  1,  3,  3, 11,  5, 15, 20, 27, 20, 16, 20, 14, 20, 17, 17,  2,\n",
       "        2,  6, 17,  2,  3,  4, 18,  8,  5, 15, 10, 21,  2, 14,  2,  2,  1,\n",
       "       17, 19, 27, 19, 13,  8, 12, 18, 19, 21, 25, 31, 12,  9,  7, 15, 14,\n",
       "       11,  3,  5,  5, 17, 14, 28, 14,  3, 13,  8,  1,  4,  2,  6,  9,  2,\n",
       "        2,  9,  6, 10, 46, 41, 37, 34, 34, 45, 73, 76, 77, 82, 86, 76, 76,\n",
       "       79, 67, 59, 55, 56, 53, 57, 43, 44, 50, 56, 57, 51, 43, 32, 49, 57,\n",
       "       58, 67, 48, 22, 21, 24, 43,  3, 22, 21, 16, 29, 43, 41, 61, 81, 73,\n",
       "       28, 12,  7, 10, 25, 26, 12,  3, 16,  4, 12, 22, 18, 49, 54, 57, 46,\n",
       "       46, 31, 33, 61, 22, 22, 19,  3, 26, 22, 23,  4, 21,  8,  4, 10,  9,\n",
       "        5, 19, 35, 32, 23, 16, 14, 44, 55, 49, 45, 39, 33, 31, 26, 24, 24,\n",
       "       32, 23, 23, 21, 22,  1,  6,  6,  8,  6, 14,  9,  3,  2,  3,  3,  3,\n",
       "        5, 38, 47,  8, 18,  7, 13, 12, 14,  5, 17, 16, 12, 18, 30, 42, 21,\n",
       "       12,  6, 21, 24, 19, 20, 16,  8,  3,  5,  1,  3, 11,  2,  3,  8,  5,\n",
       "        7, 18, 22, 24, 24, 13,  9,  1, 31, 27, 19, 19, 23, 23,  2,  4,  6,\n",
       "        9,  2,  3,  3, 10,  4,  2,  4,  2,  9,  9,  7, 10, 40, 40, 10, 39,\n",
       "       26,  7,  7, 18, 11, 22, 24, 22, 19, 19, 34, 31, 36, 52, 53, 48, 45,\n",
       "       23,  1,  4, 12, 19, 17, 26, 13, 13,  1,  4, 15, 16, 20, 25, 21, 21,\n",
       "       22, 21, 22, 13, 16,  2,  2,  5,  7,  6,  2, 20, 41, 42,  6,  4,  1,\n",
       "        4,  4,  3, 16, 41, 28, 42, 44, 45, 43, 31, 22, 20,  5,  4,  9,  9,\n",
       "       24, 19, 23, 33,  1, 24, 23, 21, 25, 15, 10,  1,  8,  9,  8, 17,  7,\n",
       "       13, 10,  1,  6,  1,  4, 17, 19, 21, 18, 13, 16, 11,  9, 15, 25, 23,\n",
       "       29, 31,  8,  1, 10,  5, 10,  7, 24, 22, 21,  7,  9, 13, 21, 12, 17,\n",
       "       27, 13, 11, 20, 25, 31,  7,  5, 21, 17, 20, 19, 28, 29, 19,  3,  9,\n",
       "        1,  2, 31, 33, 42, 34, 26, 15, 39, 38, 16, 17, 11, 14,  9, 21, 25,\n",
       "       25, 19,  8, 14,  1,  8, 10,  9, 16, 16,  9,  7])"
      ]
     },
     "execution_count": 313,
     "metadata": {},
     "output_type": "execute_result"
    }
   ],
   "source": [
    "time_spent_in_system"
   ]
  },
  {
   "cell_type": "code",
   "execution_count": null,
   "metadata": {},
   "outputs": [],
   "source": []
  }
 ],
 "metadata": {
  "kernelspec": {
   "display_name": "Python 3",
   "language": "python",
   "name": "python3"
  },
  "language_info": {
   "codemirror_mode": {
    "name": "ipython",
    "version": 3
   },
   "file_extension": ".py",
   "mimetype": "text/x-python",
   "name": "python",
   "nbconvert_exporter": "python",
   "pygments_lexer": "ipython3",
   "version": "3.6.3"
  }
 },
 "nbformat": 4,
 "nbformat_minor": 2
}
