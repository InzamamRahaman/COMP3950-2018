{
 "cells": [
  {
   "cell_type": "code",
   "execution_count": 1,
   "metadata": {},
   "outputs": [
    {
     "name": "stdout",
     "output_type": "stream",
     "text": [
      "Populating the interactive namespace from numpy and matplotlib\n"
     ]
    }
   ],
   "source": [
    "%pylab inline"
   ]
  },
  {
   "cell_type": "code",
   "execution_count": 2,
   "metadata": {
    "collapsed": true
   },
   "outputs": [],
   "source": [
    "import numpy as np\n",
    "import scipy.stats as stats\n",
    "from enum import Enum"
   ]
  },
  {
   "cell_type": "code",
   "execution_count": 3,
   "metadata": {
    "collapsed": true
   },
   "outputs": [],
   "source": [
    "class EventType(Enum):\n",
    "    ARRIVAL = 0\n",
    "    DEPARTURE = 1"
   ]
  },
  {
   "cell_type": "code",
   "execution_count": 4,
   "metadata": {
    "collapsed": true
   },
   "outputs": [],
   "source": [
    "class Event(object):\n",
    "    def __init__(self, event_type, time):\n",
    "        self.event_type = event_type\n",
    "        self.time = time"
   ]
  },
  {
   "cell_type": "code",
   "execution_count": 5,
   "metadata": {
    "collapsed": true
   },
   "outputs": [],
   "source": [
    "class EventList(object):\n",
    "    def __init__(self):\n",
    "        self.events = []\n",
    "        \n",
    "    def __len__(self):\n",
    "        return len(self.events)\n",
    "        \n",
    "    def is_empty(self):\n",
    "        return len(self) == 0\n",
    "        \n",
    "    def get_first(self):\n",
    "        first = self.events[0]\n",
    "        return first\n",
    "    \n",
    "    def enqueue(self, event):\n",
    "        self.events.append(event)\n",
    "        self.sort()\n",
    "    \n",
    "    def dequeue(self):\n",
    "        self.sort()\n",
    "        first = self.get_first()\n",
    "        self.events = self.events[1:]\n",
    "        return first\n",
    "    \n",
    "    def sort(self):\n",
    "        self.events = sorted(self.events, key=lambda x: x.time)\n",
    "        self.events = list(self.events)\n",
    "        "
   ]
  },
  {
   "cell_type": "code",
   "execution_count": 6,
   "metadata": {
    "collapsed": true
   },
   "outputs": [],
   "source": [
    "def interarrival_time():\n",
    "    return int(np.ceil(np.random.exponential(12)))\n",
    "\n",
    "def service_time():\n",
    "    return int(np.ceil(np.random.exponential(8)))\n",
    "\n",
    "def counts_to_table(counts):\n",
    "    values = set(counts)\n",
    "    l = float(len(counts))\n",
    "    probs = dict()\n",
    "    for v in values:\n",
    "        probs[v] = len(counts[counts == v])/l\n",
    "    return probs\n",
    "        "
   ]
  },
  {
   "cell_type": "code",
   "execution_count": 8,
   "metadata": {
    "collapsed": true
   },
   "outputs": [],
   "source": [
    "# assuming a FCFS queue\n",
    "# we log the arrival time, time of service, and departure time for each\n",
    "# customer who enters Rituals\n",
    "customer_arrival = []\n",
    "customer_departure = []\n",
    "customer_service = []\n",
    "num_customers_system = [] # logs num customers for any particular point in time\n",
    "num_customers_line = []\n",
    "server_utilization = 0\n",
    "event_list = EventList()\n",
    "first_arrival = interarrival_time()\n",
    "event_list.enqueue(Event(EventType.ARRIVAL, first_arrival))\n",
    "\n",
    "time_to_simulate = 60 * 24 * 31\n",
    "free = True\n",
    "customers = 0\n",
    "t = 0"
   ]
  },
  {
   "cell_type": "code",
   "execution_count": 9,
   "metadata": {},
   "outputs": [],
   "source": [
    "\n",
    "while t < time_to_simulate:\n",
    "    next_event = event_list.dequeue()\n",
    "    lt = t\n",
    "    t = next_event.time\n",
    "    if t > time_to_simulate:\n",
    "        break\n",
    "    diff = t - lt\n",
    "    num_customers_line.extend([customers] * (diff - 1))\n",
    "    if free:\n",
    "        num_customers_system.extend([0] * (diff - 1))\n",
    "    else:\n",
    "        num_customers_system.extend([customers + 1] * (diff - 1))\n",
    "    if next_event.event_type == EventType.ARRIVAL:\n",
    "        customer_arrival.append(t)\n",
    "        customers += 1\n",
    "        if free:\n",
    "            free = False\n",
    "            customer_service.append(t)\n",
    "            customers -= 1\n",
    "            d_time = service_time() + t\n",
    "            event_list.enqueue(Event(EventType.DEPARTURE, d_time))\n",
    "        next_arrival_time = interarrival_time() + t\n",
    "        arrival_event = Event(EventType.ARRIVAL, next_arrival_time)\n",
    "        event_list.enqueue(arrival_event)\n",
    "    elif next_event.event_type == EventType.DEPARTURE:\n",
    "        customer_departure.append(t)\n",
    "        free = True\n",
    "        if customers > 0:\n",
    "            free = False\n",
    "            customer_service.append(t)\n",
    "            customers -= 1\n",
    "            next_dept_time = t + service_time()\n",
    "            dept_event = Event(EventType.DEPARTURE, next_dept_time)\n",
    "            event_list.enqueue(dept_event)\n",
    "\n",
    "customer_service = np.array(customer_service)\n",
    "customer_arrival = np.array(customer_arrival)\n",
    "customer_departure = np.array(customer_departure)\n",
    "num_customers_line = np.array(num_customers_line)\n",
    "num_customers_system = np.array(num_customers_system)\n",
    "    "
   ]
  },
  {
   "cell_type": "code",
   "execution_count": 10,
   "metadata": {
    "collapsed": true
   },
   "outputs": [],
   "source": [
    "# get array of times spent in the queue\n",
    "time_spent_in_queue = customer_service - customer_arrival[0:len(customer_service)]\n",
    "\n",
    "# get array of times spent in system\n",
    "time_spent_in_system = customer_departure - customer_arrival[0:len(customer_departure)]\n",
    "\n",
    "#service times\n",
    "service_times = customer_departure - customer_service[0:len(customer_departure)]\n",
    "total_service_time = sum(service_times)\n",
    "utilization = total_service_time / time_to_simulate"
   ]
  },
  {
   "cell_type": "code",
   "execution_count": 11,
   "metadata": {},
   "outputs": [
    {
     "data": {
      "text/plain": [
       "0.6762544802867384"
      ]
     },
     "execution_count": 11,
     "metadata": {},
     "output_type": "execute_result"
    }
   ],
   "source": [
    "utilization\n"
   ]
  },
  {
   "cell_type": "code",
   "execution_count": 12,
   "metadata": {},
   "outputs": [
    {
     "data": {
      "text/plain": [
       "1.7518443110605779"
      ]
     },
     "execution_count": 12,
     "metadata": {},
     "output_type": "execute_result"
    }
   ],
   "source": [
    "np.mean(num_customers_system)"
   ]
  },
  {
   "cell_type": "code",
   "execution_count": 13,
   "metadata": {},
   "outputs": [
    {
     "data": {
      "text/plain": [
       "1.1035722784843598"
      ]
     },
     "execution_count": 13,
     "metadata": {},
     "output_type": "execute_result"
    }
   ],
   "source": [
    "np.mean(num_customers_line)"
   ]
  },
  {
   "cell_type": "code",
   "execution_count": 14,
   "metadata": {},
   "outputs": [
    {
     "data": {
      "text/plain": [
       "(array([  2.19530000e+04,   5.56600000e+03,   3.86600000e+03,\n",
       "          2.52900000e+03,   1.42500000e+03,   1.02000000e+03,\n",
       "          7.24000000e+02,   3.75000000e+02,   2.37000000e+02,\n",
       "          7.40000000e+01,   3.10000000e+01,   1.80000000e+01,\n",
       "          1.00000000e+00]),\n",
       " array([  0.        ,   0.92307692,   1.84615385,   2.76923077,\n",
       "          3.69230769,   4.61538462,   5.53846154,   6.46153846,\n",
       "          7.38461538,   8.30769231,   9.23076923,  10.15384615,\n",
       "         11.07692308,  12.        ]),\n",
       " <a list of 13 Patch objects>)"
      ]
     },
     "execution_count": 14,
     "metadata": {},
     "output_type": "execute_result"
    },
    {
     "data": {
      "image/png": "[encoded data removed]",
      "text/plain": [
       "<matplotlib.figure.Figure at 0x11266f240>"
      ]
     },
     "metadata": {},
     "output_type": "display_data"
    }
   ],
   "source": [
    "plt.hist(num_customers_line, bins=len(set(num_customers_line)))"
   ]
  },
  {
   "cell_type": "code",
   "execution_count": 15,
   "metadata": {},
   "outputs": [
    {
     "data": {
      "text/plain": [
       "(array([ 13302.,   8651.,   5566.,   3866.,   2529.,   1425.,   1020.,\n",
       "           724.,    375.,    237.,     74.,     31.,     19.]),\n",
       " array([  0.,   1.,   2.,   3.,   4.,   5.,   6.,   7.,   8.,   9.,  10.,\n",
       "         11.,  12.,  13.]),\n",
       " <a list of 13 Patch objects>)"
      ]
     },
     "execution_count": 15,
     "metadata": {},
     "output_type": "execute_result"
    },
    {
     "data": {
      "image/png": "[encoded data removed]",
      "text/plain": [
       "<matplotlib.figure.Figure at 0x11266fef0>"
      ]
     },
     "metadata": {},
     "output_type": "display_data"
    }
   ],
   "source": [
    "plt.hist(num_customers_system, bins=len(set(num_customers_line)))"
   ]
  },
  {
   "cell_type": "code",
   "execution_count": 16,
   "metadata": {},
   "outputs": [
    {
     "data": {
      "text/plain": [
       "{0: 0.3517279674237817,\n",
       " 1: 0.22874745498294508,\n",
       " 2: 0.14717470054734394,\n",
       " 3: 0.10222374996694783,\n",
       " 4: 0.06687114942224807,\n",
       " 5: 0.03767947328062614,\n",
       " 6: 0.026970570348237657,\n",
       " 7: 0.01914381660012163,\n",
       " 8: 0.009915650863322668,\n",
       " 9: 0.006266691345619926,\n",
       " 10: 0.0019566884370290066,\n",
       " 11: 0.0008196938047013406,\n",
       " 12: 0.0004759512414394881,\n",
       " 13: 2.6441735635527116e-05}"
      ]
     },
     "execution_count": 16,
     "metadata": {},
     "output_type": "execute_result"
    }
   ],
   "source": [
    "counts_to_table(num_customers_system)"
   ]
  },
  {
   "cell_type": "code",
   "execution_count": 17,
   "metadata": {},
   "outputs": [
    {
     "data": {
      "text/plain": [
       "{0: 0.5804754224067268,\n",
       " 1: 0.14717470054734394,\n",
       " 2: 0.10222374996694783,\n",
       " 3: 0.06687114942224807,\n",
       " 4: 0.03767947328062614,\n",
       " 5: 0.026970570348237657,\n",
       " 6: 0.01914381660012163,\n",
       " 7: 0.009915650863322668,\n",
       " 8: 0.006266691345619926,\n",
       " 9: 0.0019566884370290066,\n",
       " 10: 0.0008196938047013406,\n",
       " 11: 0.0004759512414394881,\n",
       " 12: 2.6441735635527116e-05}"
      ]
     },
     "execution_count": 17,
     "metadata": {},
     "output_type": "execute_result"
    }
   ],
   "source": [
    "counts_to_table(num_customers_line)"
   ]
  },
  {
   "cell_type": "code",
   "execution_count": 18,
   "metadata": {},
   "outputs": [
    {
     "data": {
      "text/plain": [
       "14.463229078613693"
      ]
     },
     "execution_count": 18,
     "metadata": {},
     "output_type": "execute_result"
    }
   ],
   "source": [
    "np.mean(time_spent_in_queue)"
   ]
  },
  {
   "cell_type": "code",
   "execution_count": 19,
   "metadata": {},
   "outputs": [
    {
     "data": {
      "text/plain": [
       "22.969287123133277"
      ]
     },
     "execution_count": 19,
     "metadata": {},
     "output_type": "execute_result"
    }
   ],
   "source": [
    "np.mean(time_spent_in_system)"
   ]
  },
  {
   "cell_type": "code",
   "execution_count": 20,
   "metadata": {},
   "outputs": [
    {
     "data": {
      "text/plain": [
       "[<matplotlib.lines.Line2D at 0x11ad39d68>]"
      ]
     },
     "execution_count": 20,
     "metadata": {},
     "output_type": "execute_result"
    },
    {
     "data": {
      "image/png": "[encoded data removed]",
      "text/plain": [
       "<matplotlib.figure.Figure at 0x112658da0>"
      ]
     },
     "metadata": {},
     "output_type": "display_data"
    }
   ],
   "source": [
    "plt.plot(range(len(num_customers_system)), num_customers_system)"
   ]
  },
  {
   "cell_type": "code",
   "execution_count": 24,
   "metadata": {
    "collapsed": true
   },
   "outputs": [],
   "source": [
    "rolling_average = []\n",
    "acc = 0.0\n",
    "n = 1.0\n",
    "for c in num_customers_system:\n",
    "    acc += c\n",
    "    rolling_average.append(acc/n)"
   ]
  },
  {
   "cell_type": "code",
   "execution_count": 25,
   "metadata": {},
   "outputs": [
    {
     "data": {
      "text/plain": [
       "[<matplotlib.lines.Line2D at 0x11b5af9e8>]"
      ]
     },
     "execution_count": 25,
     "metadata": {},
     "output_type": "execute_result"
    },
    {
     "data": {
      "image/png": "[encoded data removed]",
      "text/plain": [
       "<matplotlib.figure.Figure at 0x11ace4a20>"
      ]
     },
     "metadata": {},
     "output_type": "display_data"
    }
   ],
   "source": [
    "rolling_average = np.array(rolling_average)\n",
    "plt.plot(range(len(rolling_average)), \n",
    "         rolling_average)"
   ]
  },
  {
   "cell_type": "code",
   "execution_count": 26,
   "metadata": {
    "collapsed": true
   },
   "outputs": [],
   "source": [
    "first_valid = 0\n",
    "for i, c in enumerate(customer_arrival):\n",
    "    if c >= 15000:\n",
    "        first_valid = i\n",
    "        break"
   ]
  },
  {
   "cell_type": "code",
   "execution_count": 27,
   "metadata": {},
   "outputs": [
    {
     "data": {
      "text/plain": [
       "1154"
      ]
     },
     "execution_count": 27,
     "metadata": {},
     "output_type": "execute_result"
    }
   ],
   "source": [
    "first_valid"
   ]
  },
  {
   "cell_type": "code",
   "execution_count": 28,
   "metadata": {
    "collapsed": true
   },
   "outputs": [],
   "source": [
    "steady_arrivals = customer_arrival[first_valid:]\n",
    "steady_services = customer_service[first_valid:]\n",
    "steady_departures = customer_departure[first_valid:]"
   ]
  },
  {
   "cell_type": "code",
   "execution_count": 29,
   "metadata": {
    "collapsed": true
   },
   "outputs": [],
   "source": [
    "times_in_service = steady_departures - steady_services[:len(steady_departures)]\n",
    "times_in_queue = steady_services - steady_arrivals[:len(steady_services)]\n",
    "times_in_system = steady_departures - steady_arrivals[:len(steady_departures)]"
   ]
  },
  {
   "cell_type": "code",
   "execution_count": 30,
   "metadata": {},
   "outputs": [
    {
     "data": {
      "text/plain": [
       "14.772025052192067"
      ]
     },
     "execution_count": 30,
     "metadata": {},
     "output_type": "execute_result"
    }
   ],
   "source": [
    "np.mean(times_in_queue)"
   ]
  },
  {
   "cell_type": "code",
   "execution_count": 31,
   "metadata": {},
   "outputs": [
    {
     "data": {
      "text/plain": [
       "23.087265135699372"
      ]
     },
     "execution_count": 31,
     "metadata": {},
     "output_type": "execute_result"
    }
   ],
   "source": [
    "np.mean(times_in_system)"
   ]
  },
  {
   "cell_type": "code",
   "execution_count": 32,
   "metadata": {
    "collapsed": true
   },
   "outputs": [],
   "source": [
    "utilization = sum(times_in_service) / (time_to_simulate - customer_arrival[first_valid])"
   ]
  },
  {
   "cell_type": "code",
   "execution_count": 33,
   "metadata": {},
   "outputs": [
    {
     "name": "stdout",
     "output_type": "stream",
     "text": [
      "0.672258979206\n"
     ]
    }
   ],
   "source": [
    "print(utilization)"
   ]
  },
  {
   "cell_type": "code",
   "execution_count": 36,
   "metadata": {},
   "outputs": [
    {
     "data": {
      "text/plain": [
       "1.1322194448098934"
      ]
     },
     "execution_count": 36,
     "metadata": {},
     "output_type": "execute_result"
    }
   ],
   "source": [
    "np.mean(num_customers_line[customer_arrival[first_valid]:])"
   ]
  },
  {
   "cell_type": "code",
   "execution_count": 37,
   "metadata": {},
   "outputs": [
    {
     "data": {
      "text/plain": [
       "1.778537911678288"
      ]
     },
     "execution_count": 37,
     "metadata": {},
     "output_type": "execute_result"
    }
   ],
   "source": [
    "np.mean(num_customers_system[customer_arrival[first_valid]:])"
   ]
  }
 ],
 "metadata": {
  "kernelspec": {
   "display_name": "Python 3",
   "language": "python",
   "name": "python3"
  },
  "language_info": {
   "codemirror_mode": {
    "name": "ipython",
    "version": 3
   },
   "file_extension": ".py",
   "mimetype": "text/x-python",
   "name": "python",
   "nbconvert_exporter": "python",
   "pygments_lexer": "ipython3",
   "version": "3.6.3"
  }
 },
 "nbformat": 4,
 "nbformat_minor": 2
}
